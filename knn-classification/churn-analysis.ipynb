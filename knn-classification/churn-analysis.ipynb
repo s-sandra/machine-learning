{
 "cells": [
  {
   "cell_type": "markdown",
   "metadata": {},
   "source": [
    "# Marketing Churn Analysis\n",
    "This notebook uses a k-Nearest-Neighbor (kNN) classifier that I wrote from scratch to predict the churn rate for customers."
   ]
  },
  {
   "cell_type": "code",
   "execution_count": 21,
   "metadata": {},
   "outputs": [],
   "source": [
    "import pandas as pd\n",
    "from knn import *\n",
    "from scipy.spatial import distance\n",
    "from sklearn.model_selection import train_test_split"
   ]
  },
  {
   "cell_type": "code",
   "execution_count": 4,
   "metadata": {
    "collapsed": true
   },
   "outputs": [],
   "source": [
    "churn_data = pd.read_csv(\"churn_data.csv\")\n",
    "churn_validation = pd.read_csv(\"churn_validation.csv\")"
   ]
  },
  {
   "cell_type": "markdown",
   "metadata": {},
   "source": [
    "## Data Exploration"
   ]
  },
  {
   "cell_type": "code",
   "execution_count": 11,
   "metadata": {},
   "outputs": [
    {
     "name": "stdout",
     "output_type": "stream",
     "text": [
      "<class 'pandas.core.frame.DataFrame'>\n",
      "RangeIndex: 128 entries, 0 to 127\n",
      "Data columns (total 9 columns):\n",
      "CustID        128 non-null int64\n",
      "Gender        128 non-null object\n",
      "Age           128 non-null int64\n",
      "Income        128 non-null object\n",
      "FamilySize    128 non-null int64\n",
      "Education     128 non-null int64\n",
      "Calls         128 non-null int64\n",
      "Visits        128 non-null int64\n",
      "Churn         128 non-null object\n",
      "dtypes: int64(6), object(3)\n",
      "memory usage: 9.1+ KB\n",
      "\n",
      "<class 'pandas.core.frame.DataFrame'>\n",
      "RangeIndex: 32 entries, 0 to 31\n",
      "Data columns (total 9 columns):\n",
      "CustID        32 non-null int64\n",
      "Gender        32 non-null object\n",
      "Age           32 non-null int64\n",
      "Income        32 non-null object\n",
      "FamilySize    32 non-null int64\n",
      "Education     32 non-null int64\n",
      "Calls         32 non-null int64\n",
      "Visits        32 non-null int64\n",
      "Churn         32 non-null object\n",
      "dtypes: int64(6), object(3)\n",
      "memory usage: 2.3+ KB\n"
     ]
    }
   ],
   "source": [
    "churn_data.info()\n",
    "print()\n",
    "churn_validation.info()"
   ]
  },
  {
   "cell_type": "markdown",
   "metadata": {},
   "source": [
    "We will need to perform binary classification"
   ]
  },
  {
   "cell_type": "code",
   "execution_count": 14,
   "metadata": {},
   "outputs": [
    {
     "data": {
      "text/plain": [
       "Yes    72\n",
       "No     56\n",
       "Name: Churn, dtype: int64"
      ]
     },
     "execution_count": 14,
     "metadata": {},
     "output_type": "execute_result"
    }
   ],
   "source": [
    "churn_data.Churn.value_counts()"
   ]
  },
  {
   "cell_type": "markdown",
   "metadata": {},
   "source": [
    "## Train-Test Split"
   ]
  },
  {
   "cell_type": "code",
   "execution_count": 13,
   "metadata": {
    "collapsed": true
   },
   "outputs": [],
   "source": [
    "data_x = churn_data.drop([\"Churn\"], axis=1)\n",
    "data_y = churn_data.Churn\n",
    "\n",
    "valid_x = churn_validation.drop([\"Churn\"], axis=1)\n",
    "valid_y = churn_validation.Churn\n",
    "\n",
    "x_train, x_test, y_train, y_test = train_test_split(data_x, data_y, test_size = 0.3, random_state = 4)"
   ]
  },
  {
   "cell_type": "markdown",
   "metadata": {},
   "source": [
    "## Error Metrics"
   ]
  },
  {
   "cell_type": "code",
   "execution_count": 15,
   "metadata": {
    "collapsed": true
   },
   "outputs": [],
   "source": [
    "def print_binary_classif_error_report(y_test, preds):\n",
    "    print('Accuracy: ' + str(accuracy_score(y_test, preds)))\n",
    "    print('Precison: ' + str(precision_score(y_test, preds)))\n",
    "    print('Recall: ' + str(recall_score(y_test, preds)))\n",
    "    print('F1: ' + str(f1_score(y_test, preds)))\n",
    "    print('ROC AUC: ' + str(roc_auc_score(y_test, preds)))\n",
    "    print(\"Confusion Matrix:\\n\" + str(confusion_matrix(y_test, preds)))"
   ]
  },
  {
   "cell_type": "markdown",
   "metadata": {},
   "source": [
    "## Compute Best Model\n"
   ]
  },
  {
   "cell_type": "code",
   "execution_count": 25,
   "metadata": {},
   "outputs": [],
   "source": [
    "knn = KNN(3, distance.euclidean)\n",
    "knn.fit(x_train, y_train)\n",
    "y_hat = knn.predict(x_test)\n",
    "# print_binary_classif_error_report(y_test, y_hat)"
   ]
  }
 ],
 "metadata": {
  "kernelspec": {
   "display_name": "Python 3",
   "language": "python",
   "name": "python3"
  },
  "language_info": {
   "codemirror_mode": {
    "name": "ipython",
    "version": 3
   },
   "file_extension": ".py",
   "mimetype": "text/x-python",
   "name": "python",
   "nbconvert_exporter": "python",
   "pygments_lexer": "ipython3",
   "version": "3.6.1"
  }
 },
 "nbformat": 4,
 "nbformat_minor": 2
}
